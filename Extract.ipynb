{
 "cells": [
  {
   "cell_type": "code",
   "execution_count": 1,
   "metadata": {},
   "outputs": [],
   "source": [
    "from tqdm import tqdm\n",
    "import requests\n",
    "import pandas as pd\n",
    "import re\n",
    "from unicodedata import normalize\n",
    "from time import sleep\n",
    "from datetime import datetime\n",
    "import numpy as np\n",
    "from geopy.geocoders import Nominatim\n",
    "\n",
    "from selenium import webdriver\n",
    "from webdriver_manager.chrome import ChromeDriverManager\n",
    "from selenium.webdriver.common.keys import Keys\n",
    "from selenium.webdriver.chrome.options import Options\n",
    "\n",
    "import warnings\n",
    "warnings.filterwarnings('ignore')\n",
    "import src.support as sp "
   ]
  },
  {
   "cell_type": "code",
   "execution_count": 4,
   "metadata": {},
   "outputs": [],
   "source": [
    "# Takes the path of the chromedirver.exe and store it in dirver\n",
    "\n",
    "driver = webdriver.Chrome(\"../Python/Clase/chromedriver.exe\")"
   ]
  },
  {
   "cell_type": "code",
   "execution_count": 5,
   "metadata": {},
   "outputs": [],
   "source": [
    "option= Options() # The first thing we are going to do is to define a series of options to work with Selenium\n",
    "\n",
    "option.add_experimental_option('excludeSwitches', ['enable-automation']) # Hide myself as robot\n",
    "\n",
    "option.add_experimental_option('useAutomationExtension', False) # Disables the use of the browser automation extension\n",
    "\n",
    "option.add_argument('--start-maximized') # Start maximized\n",
    "\n",
    "option.add_argument('user.data-dir=selenium') # Save cookies\n",
    "\n",
    "option.add_argument('--incognito') # Incognito window"
   ]
  },
  {
   "cell_type": "code",
   "execution_count": 10,
   "metadata": {},
   "outputs": [],
   "source": [
    "def sleep_(n1, n2, n3):\n",
    "    \"\"\"Random number generator, suitable for sleeps to scrape\n",
    "    Args:\n",
    "        n1 (int, optional): the minimum number it can return.\n",
    "        n2 (int, optional): the maximum number it can return.\n",
    "        n3 (int, optional): the number of decimal places returned.\n",
    "    Returns:\n",
    "        int: random int between the first number and the second with the third number of decimal places.\n",
    "    \"\"\"\n",
    "    return round(np.random.randint(n1,n2) + np.random.rand(1)[0], n3)"
   ]
  },
  {
   "cell_type": "code",
   "execution_count": 11,
   "metadata": {},
   "outputs": [],
   "source": [
    "# Installs the latest version of the ChromeDriver binary that matches the installed version of Chrome\n",
    "\n",
    "driver = webdriver.Chrome(ChromeDriverManager().install())\n",
    "\n",
    "driver.get(\"https://www.cinesa.es/cines/\") # Gets the written url\n",
    "\n",
    "driver.implicitly_wait(30) # Sets an implicit wait time of 30 seconds in the driver object\n",
    "\n",
    "driver.find_element(\"css selector\", \"#onetrust-reject-all-handler\").click() # Rejects the cookies\n",
    "\n",
    "sleep(sleep_(3, 6, 2)) # The program will wait for a random amount of seconds before moving on to the next line of code\n",
    "\n",
    "# The text attribute is used to retrieve its text content and store it in the cinema_list\n",
    "\n",
    "cinema_list = driver.find_element(\"css selector\", \"#root > div.page-wrapper > div > div.cinema-list\").text"
   ]
  },
  {
   "cell_type": "code",
   "execution_count": 7,
   "metadata": {},
   "outputs": [],
   "source": [
    "split_list = cinema_list.split(\"\\n\")"
   ]
  },
  {
   "cell_type": "code",
   "execution_count": 8,
   "metadata": {},
   "outputs": [],
   "source": [
    "def pick_in_two(lst,num):\n",
    "    processed_list = [] # Create an empty list to store the processed elements\n",
    "    for i in range(0, len(lst), num): # Loop through the list with a step of 2\n",
    "        s = lst[i].lower() # Convert the current element to lowercase\n",
    "        s = re.sub( # Replace diacritic characters in the string using a regular expression\n",
    "            r\"([^n\\u0300-\\u036f]|n(?!\\u0303(?![\\u0300-\\u036f])))[\\u0300-\\u036f]+\", r\"\\1\", \n",
    "            normalize( \"NFD\", s), 0, re.I\n",
    "        )\n",
    "        s = normalize( 'NFC', s) # Normalize the string to the NFC form\n",
    "        s = s.replace(' ', '-') # Replace spaces with -\n",
    "        processed_list.append(s) # Append the processed element to the list\n",
    "    return processed_list # Return the processed list\n",
    "\n",
    "cinema_url = pick_in_two(split_list,2)"
   ]
  },
  {
   "cell_type": "code",
   "execution_count": 9,
   "metadata": {},
   "outputs": [],
   "source": [
    "urls = []\n",
    "for name in cinema_url:\n",
    "        urls.append(f\"https://www.cinesa.es/cines/{name}/\")\n",
    "urls = urls[:-2] # Since the last two are no longer operative"
   ]
  },
  {
   "cell_type": "code",
   "execution_count": 16,
   "metadata": {},
   "outputs": [],
   "source": [
    "cinesa_urls = pd.DataFrame(urls)\n",
    "cinesa_urls.to_csv(\"data/Cinesa_urls.csv\")"
   ]
  },
  {
   "cell_type": "code",
   "execution_count": 9,
   "metadata": {},
   "outputs": [
    {
     "name": "stderr",
     "output_type": "stream",
     "text": [
      "100%|██████████| 37/37 [18:40<00:00, 30.27s/it]\n"
     ]
    }
   ],
   "source": [
    "movie_list = []\n",
    "driver = webdriver.Chrome(ChromeDriverManager().install())\n",
    "\n",
    "for url in tqdm(urls):\n",
    "    try:\n",
    "        driver.get(url)\n",
    "        driver.implicitly_wait(30) # Sets an implicit wait time of 30 seconds in the driver object\n",
    "        driver.find_element(\"css selector\",\"#onetrust-reject-all-handler\").click() # Rejects the cookies\n",
    "        adress = driver.find_element(\"css selector\", \"#root > div.page-wrapper > div > div.cinema-carousel > div\").text # Gets the adress\n",
    "        movie_list.append(adress) # Append the result to a list\n",
    "        movies = driver.find_element(\"css selector\", \"#root > div.page-wrapper > div > div.cinema-details-showtime-picker > div.v-date-showtime-picker > div.v-showtime-picker > ul\").text # Gets the movies info\n",
    "        movie_list.append(movies) # Append the result to a list\n",
    "        info = driver.find_element(\"css selector\", \"#cinemainfo > div.tab-content > div\").text # Gets the cinema info\n",
    "        movie_list.append(info) # Append the result to a list\n",
    "        driver.find_element(\"css selector\",\"#cinemainfo > div.v-tabs > header > div > ul > li:nth-child(5) > button\").click() # Click the price button\n",
    "        price = driver.find_element(\"css selector\", \"#cinemainfo > div.tab-content\").text # Gets the cinema price\n",
    "        movie_list.append(price) # Append the result to a list\n",
    "    except:\n",
    "        adress = driver.find_element(\"css selector\", \"#root > div.page-wrapper > div > div.cinema-carousel > div\").text # Gets the adress\n",
    "        movie_list.append(adress) # Append the result to a list\n",
    "        movies = driver.find_element(\"css selector\", \"#root > div.page-wrapper > div > div.cinema-details-showtime-picker > div.v-date-showtime-picker > div.v-showtime-picker > ul\").text # Gets the movies info\n",
    "        movie_list.append(movies) # Append the result to a list\n",
    "        info = driver.find_element(\"css selector\", \"#cinemainfo > div.tab-content > div\").text # Gets the cinema info\n",
    "        movie_list.append(info) # Append the result to a list\n",
    "        driver.find_element(\"css selector\",\"#cinemainfo > div.v-tabs > header > div > ul > li:nth-child(5) > button\").click() # Click the price button\n",
    "        price = driver.find_element(\"css selector\", \"#cinemainfo > div.tab-content\").text # Gets the cinema price\n",
    "        movie_list.append(price) # Append the result to a list"
   ]
  },
  {
   "cell_type": "code",
   "execution_count": 10,
   "metadata": {},
   "outputs": [
    {
     "data": {
      "text/html": [
       "<div>\n",
       "<style scoped>\n",
       "    .dataframe tbody tr th:only-of-type {\n",
       "        vertical-align: middle;\n",
       "    }\n",
       "\n",
       "    .dataframe tbody tr th {\n",
       "        vertical-align: top;\n",
       "    }\n",
       "\n",
       "    .dataframe thead th {\n",
       "        text-align: right;\n",
       "    }\n",
       "</style>\n",
       "<table border=\"1\" class=\"dataframe\">\n",
       "  <thead>\n",
       "    <tr style=\"text-align: right;\">\n",
       "      <th></th>\n",
       "      <th>0</th>\n",
       "    </tr>\n",
       "  </thead>\n",
       "  <tbody>\n",
       "    <tr>\n",
       "      <th>0</th>\n",
       "      <td>As Cancelas\\nISENSE\\nCentro comercial As Cance...</td>\n",
       "    </tr>\n",
       "    <tr>\n",
       "      <th>1</th>\n",
       "      <td>Llaman a la puerta\\nDurante unas vacaciones en...</td>\n",
       "    </tr>\n",
       "    <tr>\n",
       "      <th>2</th>\n",
       "      <td>CINESA AS CANCELAS, SANTIAGO DE COMPOSTELA (A ...</td>\n",
       "    </tr>\n",
       "    <tr>\n",
       "      <th>3</th>\n",
       "      <td>PRECIOS GENERALES\\nLaborables (de lunes a juev...</td>\n",
       "    </tr>\n",
       "    <tr>\n",
       "      <th>4</th>\n",
       "      <td>Bahía de Santander\\nCentro comercial Bahía de ...</td>\n",
       "    </tr>\n",
       "  </tbody>\n",
       "</table>\n",
       "</div>"
      ],
      "text/plain": [
       "                                                   0\n",
       "0  As Cancelas\\nISENSE\\nCentro comercial As Cance...\n",
       "1  Llaman a la puerta\\nDurante unas vacaciones en...\n",
       "2  CINESA AS CANCELAS, SANTIAGO DE COMPOSTELA (A ...\n",
       "3  PRECIOS GENERALES\\nLaborables (de lunes a juev...\n",
       "4  Bahía de Santander\\nCentro comercial Bahía de ..."
      ]
     },
     "execution_count": 10,
     "metadata": {},
     "output_type": "execute_result"
    }
   ],
   "source": [
    "# Convert the whole list to dataframe\n",
    "\n",
    "df_movie_list = pd.DataFrame(movie_list)\n",
    "df_movie_list.head()"
   ]
  },
  {
   "cell_type": "code",
   "execution_count": 11,
   "metadata": {},
   "outputs": [],
   "source": [
    "# Convert to csv and store it in data folder with the date of extraction\n",
    "\n",
    "now = datetime.now()\n",
    "\n",
    "df_movie_list.to_csv(f\"data/Cinesa_cartelera_{now.date()}.csv\")"
   ]
  },
  {
   "cell_type": "code",
   "execution_count": 13,
   "metadata": {},
   "outputs": [],
   "source": [
    "# Installs the latest version of the ChromeDriver binary that matches the installed version of Chrome\n",
    "\n",
    "driver = webdriver.Chrome(ChromeDriverManager().install())\n",
    "\n",
    "driver.get(\"https://yelmocines.es/\") # Gets the written url\n",
    "\n",
    "driver.implicitly_wait(30) # Sets an implicit wait time of 30 seconds in the driver object\n",
    "\n",
    "driver.find_element(\"css selector\", \"#CybotCookiebotDialogBodyButtonDecline\").click() # Rejects the cookies\n",
    "\n",
    "driver.find_element(\"css selector\", \"#geo__check\").click() # Rejects the cookies\n",
    "\n",
    "driver.find_element(\"css selector\", \"#renderBody_geolocation_geo__popup > div.geo__content > nav > button.btn.btn--decline\").click() # Rejects the cookies\n",
    "\n",
    "driver.implicitly_wait(30) # Sets an implicit wait time of 30 seconds in the driver object\n",
    "\n",
    "driver.find_element(\"css selector\", \"#takeover-close\").click() # Rejects the cookies\n",
    "\n",
    "driver.implicitly_wait(30) # Sets an implicit wait time of 30 seconds in the driver object\n",
    "cinema_list2 = driver.find_element(\"css selector\", \"#ddlCity\").text"
   ]
  },
  {
   "cell_type": "code",
   "execution_count": 14,
   "metadata": {},
   "outputs": [],
   "source": [
    "split_list2 = cinema_list2.split(\"\\n\")\n",
    "cinema_url2 = pick_in_two(split_list2,1)\n",
    "urls2 = []\n",
    "for name in cinema_url2:\n",
    "        if name == \"a-coruña\":\n",
    "                urls2.append(\"https://yelmocines.es/cartelera/a-coruna\")\n",
    "        else:\n",
    "                urls2.append(f\"https://yelmocines.es/cartelera/{name}\")\n",
    "urls2 = urls2[1:] # Since the first one is useless"
   ]
  },
  {
   "cell_type": "code",
   "execution_count": 15,
   "metadata": {},
   "outputs": [
    {
     "name": "stderr",
     "output_type": "stream",
     "text": [
      "100%|██████████| 23/23 [11:35<00:00, 30.23s/it]\n"
     ]
    }
   ],
   "source": [
    "movie_list2 = []\n",
    "driver = webdriver.Chrome(ChromeDriverManager().install())\n",
    "\n",
    "for url in tqdm(urls2):\n",
    "    try:\n",
    "        driver.get(url)\n",
    "        driver.implicitly_wait(30) # Sets an implicit wait time of 30 seconds in the driver object\n",
    "        driver.find_element(\"css selector\", \"#CybotCookiebotDialogBodyButtonDecline\").click() # Rejects the cookies\n",
    "        sleep(3) # The program will wait for a 3 secs\n",
    "        movies2 = driver.find_element(\"css selector\", \"#now__city\").text # Gets the movies info\n",
    "        movie_list2.append(movies2) # Append the result to a list\n",
    "    except:\n",
    "        sleep(3) # The program will wait for a 3 secs\n",
    "        movies2 = driver.find_element(\"css selector\", \"#now__city\").text # Gets the movies info\n",
    "        movie_list2.append(movies2) # Append the result to a list"
   ]
  },
  {
   "cell_type": "code",
   "execution_count": 16,
   "metadata": {},
   "outputs": [],
   "source": [
    "info_list2 = []\n",
    "driver = webdriver.Chrome(ChromeDriverManager().install())\n",
    "elements = [\n",
    "    '#now__city > div:nth-child(3) > h2',\n",
    "    '#now__city > div:nth-child(4) > h2',\n",
    "    '#now__city > div:nth-child(5) > h2',\n",
    "    '#now__city > div:nth-child(6) > h2',\n",
    "    '#now__city > div:nth-child(7) > h2',\n",
    "    '#now__city > div:nth-child(8) > h2',\n",
    "    '#now__city > div:nth-child(9) > h2',\n",
    "    '#now__city > div:nth-child(10) > h2',\n",
    "    '#now__city > div:nth-child(11) > h2'\n",
    "]\n",
    "try:\n",
    "    driver.get(urls2[13])\n",
    "    sleep(2)\n",
    "    driver.implicitly_wait(30) # Sets an implicit wait time of 30 seconds\n",
    "    driver.find_element(\"css selector\", \"#CybotCookiebotDialogBodyButtonDecline\").click() # Rejects the cookies\n",
    "    sleep(2)\n",
    "    for element in elements:\n",
    "        sleep(2)\n",
    "        driver.find_element(\"css selector\", element).click()\n",
    "        sleep(2)\n",
    "        driver.find_element(\"css selector\", element).click()\n",
    "        sleep(2)\n",
    "        prueba2 = driver.find_element(\"css selector\", \"#wrapper > div.contentWrapper.cf > section.infoComplejo > article > div > div\").text\n",
    "        sleep(2)\n",
    "        info_list2.append(prueba2) # Append the result to a list\n",
    "except:\n",
    "    sleep(2)\n",
    "    for element in elements:\n",
    "        sleep(2)\n",
    "        driver.find_element(\"css selector\", element).click()\n",
    "        sleep(2)\n",
    "        driver.find_element(\"css selector\", element).click()\n",
    "        sleep(2)\n",
    "        prueba2 = driver.find_element(\"css selector\", \"#wrapper > div.contentWrapper.cf > section.infoComplejo > article > div > div\").text\n",
    "        sleep(2)\n",
    "        info_list2.append(prueba2) # Append the result to a list"
   ]
  },
  {
   "cell_type": "code",
   "execution_count": 18,
   "metadata": {},
   "outputs": [
    {
     "name": "stderr",
     "output_type": "stream",
     "text": [
      "100%|██████████| 1/1 [00:13<00:00, 13.31s/it]\n"
     ]
    }
   ],
   "source": [
    "info_list3 = []\n",
    "driver = webdriver.Chrome(ChromeDriverManager().install())\n",
    "elements = [\n",
    "    '#now__city > div.divComplejo.now__cinema > h2 > a'\n",
    "\n",
    "]\n",
    "numbers = [1]\n",
    "for i in tqdm(numbers):\n",
    "    try:\n",
    "        driver.get(urls2[i])\n",
    "        sleep(2)\n",
    "        driver.implicitly_wait(30) # Sets an implicit wait time of 30 seconds\n",
    "        driver.find_element(\"css selector\", \"#CybotCookiebotDialogBodyButtonDecline\").click() # Rejects the cookies\n",
    "        sleep(2)\n",
    "        for element in elements:\n",
    "            sleep(2)\n",
    "            driver.find_element(\"css selector\", element).click()\n",
    "            sleep(2)\n",
    "            driver.find_element(\"css selector\", element).click()\n",
    "            sleep(2)\n",
    "            prueba2 = driver.find_element(\"css selector\", \"#wrapper > div.contentWrapper.cf > section.infoComplejo > article > div > div\").text\n",
    "            sleep(2)\n",
    "            info_list3.append(prueba2) # Append the result to a list\n",
    "    except:\n",
    "        sleep(2)\n",
    "        for element in elements:\n",
    "            sleep(2)\n",
    "            driver.find_element(\"css selector\", element).click()\n",
    "            sleep(2)\n",
    "            driver.find_element(\"css selector\", element).click()\n",
    "            sleep(2)\n",
    "            prueba2 = driver.find_element(\"css selector\", \"#wrapper > div.contentWrapper.cf > section.infoComplejo > article > div > div\").text\n",
    "            sleep(2)\n",
    "            info_list3.append(prueba2) # Append the result to a list"
   ]
  },
  {
   "cell_type": "code",
   "execution_count": 12,
   "metadata": {},
   "outputs": [
    {
     "ename": "NameError",
     "evalue": "name 'movie_list2' is not defined",
     "output_type": "error",
     "traceback": [
      "\u001b[1;31m---------------------------------------------------------------------------\u001b[0m",
      "\u001b[1;31mNameError\u001b[0m                                 Traceback (most recent call last)",
      "Cell \u001b[1;32mIn [12], line 3\u001b[0m\n\u001b[0;32m      1\u001b[0m \u001b[39m# Convert the whole list to dataframe\u001b[39;00m\n\u001b[1;32m----> 3\u001b[0m df_movie_list2 \u001b[39m=\u001b[39m pd\u001b[39m.\u001b[39mDataFrame(movie_list2)\n\u001b[0;32m      4\u001b[0m z \u001b[39m=\u001b[39m df_movie_list2\u001b[39m.\u001b[39miloc[\u001b[39m0\u001b[39m][\u001b[39m0\u001b[39m]\u001b[39m.\u001b[39msplit(\u001b[39m\"\u001b[39m\u001b[39m\\n\u001b[39;00m\u001b[39m\"\u001b[39m)\n",
      "\u001b[1;31mNameError\u001b[0m: name 'movie_list2' is not defined"
     ]
    }
   ],
   "source": [
    "# Convert the whole list to dataframe\n",
    "\n",
    "df_movie_list2 = pd.DataFrame(movie_list2)\n",
    "z = df_movie_list2.iloc[0][0].split(\"\\n\")"
   ]
  },
  {
   "cell_type": "code",
   "execution_count": 22,
   "metadata": {},
   "outputs": [],
   "source": [
    "# Convert to csv and store it in data folder with the date of extraction\n",
    "\n",
    "now = datetime.now()\n",
    "\n",
    "df_movie_list2.to_csv(f\"data/Yelmo_cartelera_{now.date()}.csv\")"
   ]
  },
  {
   "cell_type": "code",
   "execution_count": 17,
   "metadata": {},
   "outputs": [],
   "source": [
    "# Installs the latest version of the ChromeDriver binary that matches the installed version of Chrome\n",
    "\n",
    "driver = webdriver.Chrome(ChromeDriverManager().install())\n",
    "\n",
    "driver.get(\"https://www.golem.es/\") # Gets the written url\n",
    "\n",
    "driver.implicitly_wait(30) # Sets an implicit wait time of 30 seconds in the driver object\n",
    "\n",
    "driver.find_element(\"css selector\", \"#cookiescript_reject\").click() # Rejects the cookies\n",
    "\n",
    "driver.find_element(\"css selector\", \"#css3menu1 > li > a\").click() # Open table\n",
    "\n",
    "cinema_list3 = driver.find_element(\"css selector\", \"#menuCines > table > tbody > tr:nth-child(3)\").text"
   ]
  },
  {
   "cell_type": "code",
   "execution_count": 18,
   "metadata": {},
   "outputs": [],
   "source": [
    "split_list3 = cinema_list3.split(\"\\n\")\n",
    "cinema_url3 = pick_in_two(split_list3,1)\n",
    "urls3 = []\n",
    "for name in cinema_url3:\n",
    "    if name == \"golem\":\n",
    "        urls3.append(f\"https://www.golem.es/golem/golem-madrid\")\n",
    "    elif name == \"van-golem\":\n",
    "        urls3.append(f\"https://www.golem.es/golem/vangolem\")\n",
    "    else:\n",
    "        urls3.append(f\"https://www.golem.es/golem/{name}\")"
   ]
  },
  {
   "cell_type": "code",
   "execution_count": 20,
   "metadata": {},
   "outputs": [],
   "source": [
    "golem_urls = pd.DataFrame(urls3)\n",
    "golem_urls.to_csv(\"data/Golem_urls.csv\")"
   ]
  },
  {
   "cell_type": "code",
   "execution_count": 96,
   "metadata": {},
   "outputs": [
    {
     "name": "stderr",
     "output_type": "stream",
     "text": [
      "100%|██████████| 6/6 [00:11<00:00,  1.97s/it]\n"
     ]
    }
   ],
   "source": [
    "movie_list3 = []\n",
    "driver = webdriver.Chrome(ChromeDriverManager().install())\n",
    "\n",
    "for url in tqdm(urls3):\n",
    "    try:\n",
    "        driver.get(url)\n",
    "        driver.implicitly_wait(30) # Sets an implicit wait time of 30 seconds in the driver object\n",
    "        adress3 = driver.find_element(\"css selector\", \"#derechaInfoCine > table > tbody > tr:nth-child(3) > td > table > tbody > tr:nth-child(2) > td.txtNegMedio\").text # Gets the cinema info\n",
    "        movie_list3.append(adress3) # Append the result to a list\n",
    "        movies3 = driver.find_element(\"css selector\", \"body > table > tbody > tr:nth-child(2) > td > table > tbody > tr:nth-child(2) > td > table > tbody > tr:nth-child(3) > td > table > tbody > tr > td:nth-child(1) > table > tbody > tr:nth-child(1) > td > table > tbody > tr:nth-child(3) > td > table\").text # Gets the movies info\n",
    "        movie_list3.append(movies3) # Append the result to a list\n",
    "        price3 = driver.find_element(\"css selector\", \"#derechaInfoCine > table > tbody > tr:nth-child(3) > td > table > tbody > tr:nth-child(1) > td\").text # Gets the cinema price\n",
    "        movie_list3.append(price3) # Append the result to a list\n",
    "    except:\n",
    "        adress3 = driver.find_element(\"css selector\", \"#derechaInfoCine > table > tbody > tr:nth-child(3) > td > table > tbody > tr:nth-child(2) > td.txtNegMedio\").text # Gets the cinema info\n",
    "        movie_list3.append(adress3) # Append the result to a list\n",
    "        movies3 = driver.find_element(\"css selector\", \"body > table > tbody > tr:nth-child(2) > td > table > tbody > tr:nth-child(2) > td > table > tbody > tr:nth-child(3) > td > table > tbody > tr > td:nth-child(1) > table > tbody > tr:nth-child(1) > td > table > tbody > tr:nth-child(3) > td > table\").text # Gets the movies info\n",
    "        movie_list3.append(movies3) # Append the result to a list\n",
    "        price3 = driver.find_element(\"css selector\", \"#derechaInfoCine > table > tbody > tr:nth-child(3) > td > table > tbody > tr:nth-child(1) > td\").text # Gets the cinema price\n",
    "        movie_list3.append(price3) # Append the result to a list"
   ]
  },
  {
   "cell_type": "code",
   "execution_count": 100,
   "metadata": {},
   "outputs": [],
   "source": [
    "# Convert the whole list to dataframe\n",
    "\n",
    "df_movie_list3 = pd.DataFrame(movie_list3)"
   ]
  },
  {
   "cell_type": "code",
   "execution_count": 98,
   "metadata": {},
   "outputs": [],
   "source": [
    "# Convert to csv and store it in data folder with the date of extraction\n",
    "\n",
    "now = datetime.now()\n",
    "\n",
    "df_movie_list3.to_csv(f\"data/Golem_cartelera_{now.date()}.csv\")"
   ]
  },
  {
   "cell_type": "code",
   "execution_count": 21,
   "metadata": {},
   "outputs": [],
   "source": [
    "# Installs the latest version of the ChromeDriver binary that matches the installed version of Chrome\n",
    "\n",
    "driver = webdriver.Chrome(ChromeDriverManager().install())\n",
    "\n",
    "driver.get(\"https://www.cinesrenoir.com/\") # Gets the written url\n",
    "\n",
    "driver.implicitly_wait(30) # Sets an implicit wait time of 30 seconds in the driver object\n",
    "\n",
    "driver.find_element(\"css selector\", \"#band-cookies-ok\").click() # Accepts the cookies\n",
    "\n",
    "sleep(sleep_(2, 3, 2)) # The program will wait for a random amount of seconds before moving on to the next line of code\n",
    "\n",
    "driver.find_element(\"css selector\", \"#bigshopNav > div.classy-menu > div.classynav > ul > li:nth-child(1)\").click() # Display Menu\n",
    "\n",
    "sleep(sleep_(2, 3, 2))\n",
    "\n",
    "# The text attribute is used to retrieve its text content and store it in the cinema_list\n",
    "\n",
    "cinema_list4 = driver.find_element(\"css selector\", \"#bigshopNav > div.classy-menu > div.classynav > ul > li:nth-child(1) > ul\").text"
   ]
  },
  {
   "cell_type": "code",
   "execution_count": 22,
   "metadata": {},
   "outputs": [],
   "source": [
    "split_list4 = cinema_list4.split(\"\\n\")\n",
    "sp_list = [x.split(\" (\")[0] for x in split_list4]\n",
    "cinema_url4 = pick_in_two(sp_list,1)\n",
    "urls4 = []\n",
    "for name in cinema_url4:\n",
    "    if name == \"renoir-plaza-de-españa\":\n",
    "        urls4.append(\"https://www.cinesrenoir.com/cine/renoir-plaza-de-espana/cartelera/\")\n",
    "    else:\n",
    "        urls4.append(f\"https://www.cinesrenoir.com/cine/{name}/cartelera/\")"
   ]
  },
  {
   "cell_type": "code",
   "execution_count": 24,
   "metadata": {},
   "outputs": [],
   "source": [
    "renoir_urls = pd.DataFrame(urls4)\n",
    "renoir_urls.to_csv(\"data/Renoir_urls.csv\")"
   ]
  },
  {
   "cell_type": "code",
   "execution_count": 40,
   "metadata": {},
   "outputs": [
    {
     "name": "stderr",
     "output_type": "stream",
     "text": [
      "100%|██████████| 4/4 [01:53<00:00, 28.28s/it]\n"
     ]
    }
   ],
   "source": [
    "movie_list4 = []\n",
    "driver = webdriver.Chrome(ChromeDriverManager().install())\n",
    "\n",
    "for url in tqdm(urls4):\n",
    "    try:\n",
    "        driver.get(url)\n",
    "        driver.implicitly_wait(30) # Sets an implicit wait time of 30 seconds in the driver object\n",
    "        driver.find_element(\"css selector\", \"#band-cookies-ok\").click() # Accepts the cookies\n",
    "        adress4 = driver.find_element(\"css selector\", \"body > section.single_product_details_area.section_padding_50 > div > div > div.d-none.d-md-block.col-12.col-md-7 > div\").text # Gets the cinema info\n",
    "        movie_list4.append(adress4) # Append the result to a list\n",
    "        movies4 = driver.find_element(\"css selector\", \"body > section.shop_list_area.mt-2 > div > div:nth-child(2)\").text # Gets the movies info\n",
    "        movie_list4.append(movies4) # Append the result to a list\n",
    "        sleep(2)\n",
    "        driver.find_element(\"css selector\", \"body > section.single_product_details_area.section_padding_50 > div > div > div.col-12.col-md-5.mb-15 > a:nth-child(3)\").click()\n",
    "        sleep(2)\n",
    "        price4 = driver.find_element(\"css selector\", \"body > section:nth-child(3)\").text # Gets the cinema price\n",
    "        movie_list4.append(price4) # Append the result to a list\n",
    "    except:\n",
    "        adress4 = driver.find_element(\"css selector\", \"body > section.single_product_details_area.section_padding_50 > div > div > div.d-none.d-md-block.col-12.col-md-7 > div\").text # Gets the cinema info\n",
    "        movie_list4.append(adress4) # Append the result to a list\n",
    "        movies4 = driver.find_element(\"css selector\", \"body > section.shop_list_area.mt-2 > div > div:nth-child(2)\").text # Gets the movies info\n",
    "        movie_list4.append(movies4) # Append the result to a list\n",
    "        sleep(2)\n",
    "        driver.find_element(\"css selector\", \"body > section.single_product_details_area.section_padding_50 > div > div > div.col-12.col-md-5.mb-15 > a:nth-child(3)\").click()\n",
    "        sleep(2)\n",
    "        price4 = driver.find_element(\"css selector\", \"body > section:nth-child(3)\").text # Gets the cinema price\n",
    "        movie_list4.append(price4) # Append the result to a list"
   ]
  },
  {
   "cell_type": "code",
   "execution_count": 41,
   "metadata": {},
   "outputs": [
    {
     "data": {
      "text/html": [
       "<div>\n",
       "<style scoped>\n",
       "    .dataframe tbody tr th:only-of-type {\n",
       "        vertical-align: middle;\n",
       "    }\n",
       "\n",
       "    .dataframe tbody tr th {\n",
       "        vertical-align: top;\n",
       "    }\n",
       "\n",
       "    .dataframe thead th {\n",
       "        text-align: right;\n",
       "    }\n",
       "</style>\n",
       "<table border=\"1\" class=\"dataframe\">\n",
       "  <thead>\n",
       "    <tr style=\"text-align: right;\">\n",
       "      <th></th>\n",
       "      <th>0</th>\n",
       "    </tr>\n",
       "  </thead>\n",
       "  <tbody>\n",
       "    <tr>\n",
       "      <th>0</th>\n",
       "      <td>Cines Princesa (11 salas)\\nDirección\\nPRINCESA...</td>\n",
       "    </tr>\n",
       "    <tr>\n",
       "      <th>1</th>\n",
       "      <td>AFTERSUN\\nde Charlotte Wells\\nVersión Original...</td>\n",
       "    </tr>\n",
       "    <tr>\n",
       "      <th>2</th>\n",
       "      <td>Precios para no socios\\nNOMBRE VALIDEZ TAQUILL...</td>\n",
       "    </tr>\n",
       "    <tr>\n",
       "      <th>3</th>\n",
       "      <td>Renoir Floridablanca (7 salas)\\nDirección\\nFLO...</td>\n",
       "    </tr>\n",
       "    <tr>\n",
       "      <th>4</th>\n",
       "      <td>AFTERSUN\\nde Charlotte Wells\\nVersión Original...</td>\n",
       "    </tr>\n",
       "    <tr>\n",
       "      <th>5</th>\n",
       "      <td>Precios para no socios\\n\\nNOMBRE VALIDEZ TAQUI...</td>\n",
       "    </tr>\n",
       "    <tr>\n",
       "      <th>6</th>\n",
       "      <td>Renoir Plaza de España (5 salas)\\nDirección\\nM...</td>\n",
       "    </tr>\n",
       "    <tr>\n",
       "      <th>7</th>\n",
       "      <td>AS BESTAS\\nde Rodrigo Sorogoyen\\nVersión Origi...</td>\n",
       "    </tr>\n",
       "    <tr>\n",
       "      <th>8</th>\n",
       "      <td>Precios para no socios\\nNOMBRE VALIDEZ TAQUILL...</td>\n",
       "    </tr>\n",
       "    <tr>\n",
       "      <th>9</th>\n",
       "      <td>Renoir Retiro (4 salas)\\nDirección\\nNARVÁEZ, 4...</td>\n",
       "    </tr>\n",
       "    <tr>\n",
       "      <th>10</th>\n",
       "      <td>ALMAS EN PENA DE INISHERIN\\nde Martin Mcdonagh...</td>\n",
       "    </tr>\n",
       "    <tr>\n",
       "      <th>11</th>\n",
       "      <td>Precios para no socios\\nNOMBRE VALIDEZ TAQUILL...</td>\n",
       "    </tr>\n",
       "  </tbody>\n",
       "</table>\n",
       "</div>"
      ],
      "text/plain": [
       "                                                    0\n",
       "0   Cines Princesa (11 salas)\\nDirección\\nPRINCESA...\n",
       "1   AFTERSUN\\nde Charlotte Wells\\nVersión Original...\n",
       "2   Precios para no socios\\nNOMBRE VALIDEZ TAQUILL...\n",
       "3   Renoir Floridablanca (7 salas)\\nDirección\\nFLO...\n",
       "4   AFTERSUN\\nde Charlotte Wells\\nVersión Original...\n",
       "5   Precios para no socios\\n\\nNOMBRE VALIDEZ TAQUI...\n",
       "6   Renoir Plaza de España (5 salas)\\nDirección\\nM...\n",
       "7   AS BESTAS\\nde Rodrigo Sorogoyen\\nVersión Origi...\n",
       "8   Precios para no socios\\nNOMBRE VALIDEZ TAQUILL...\n",
       "9   Renoir Retiro (4 salas)\\nDirección\\nNARVÁEZ, 4...\n",
       "10  ALMAS EN PENA DE INISHERIN\\nde Martin Mcdonagh...\n",
       "11  Precios para no socios\\nNOMBRE VALIDEZ TAQUILL..."
      ]
     },
     "execution_count": 41,
     "metadata": {},
     "output_type": "execute_result"
    }
   ],
   "source": [
    "# Convert the whole list to dataframe\n",
    "\n",
    "df_movie_list4 = pd.DataFrame(movie_list4)\n",
    "z = df_movie_list4.iloc[0][0].split(\"\\n\")"
   ]
  },
  {
   "cell_type": "code",
   "execution_count": 42,
   "metadata": {},
   "outputs": [],
   "source": [
    "# Convert to csv and store it in data folder with the date of extraction\n",
    "\n",
    "now = datetime.now()\n",
    "\n",
    "df_movie_list4.to_csv(f\"data/Renoir_cartelera_{now.date()}.csv\")"
   ]
  },
  {
   "cell_type": "code",
   "execution_count": 33,
   "metadata": {},
   "outputs": [],
   "source": [
    "df_movie_list = pd.read_csv(\"data/Cinesa_cartelera_2023-02-11.csv\")"
   ]
  },
  {
   "cell_type": "code",
   "execution_count": 34,
   "metadata": {},
   "outputs": [],
   "source": [
    "df_movie_list.drop([\"Unnamed: 0\"], axis = 1, inplace=True)"
   ]
  },
  {
   "cell_type": "code",
   "execution_count": null,
   "metadata": {},
   "outputs": [],
   "source": [
    "def get_adress(lst):\n",
    "    coord = []\n",
    "    geoloca=Nominatim(user_agent=\"juan\")\n",
    "    for element in range(0,len(lst)):\n",
    "        try:\n",
    "            ad = lst[element][-2]+\", \"+lst[element][-1]\n",
    "            location= geoloca.geocode(ad)\n",
    "            coord.append(location[-1])\n",
    "        except:\n",
    "            for part in lst[element]:\n",
    "                if \"Centro\" in part:\n",
    "                    try:\n",
    "                        location= geoloca.geocode(part)\n",
    "                        coord.append(location[-1])\n",
    "                    except:\n",
    "                        print(part)\n",
    "                        location= geoloca.geocode(part[1])\n",
    "                        coord.append(location[-1])\n",
    "                else:\n",
    "                    pass\n",
    "    return coord"
   ]
  },
  {
   "cell_type": "code",
   "execution_count": null,
   "metadata": {},
   "outputs": [
    {
     "data": {
      "text/plain": [
       "Location(Heron City Madrid, La Dehesa de Navalcarbón, Las Rozas de Madrid, Área metropolitana de Madrid y Corredor del Henares, Comunidad de Madrid, España, (40.5160134, -3.897459259461641, 0.0))"
      ]
     },
     "execution_count": 236,
     "metadata": {},
     "output_type": "execute_result"
    }
   ],
   "source": [
    "geoloca=Nominatim(user_agent=\"juan\")\n",
    "location= geoloca.geocode(\"Heron City Las Rozas\")\n",
    "location"
   ]
  },
  {
   "cell_type": "code",
   "execution_count": null,
   "metadata": {},
   "outputs": [
    {
     "data": {
      "text/plain": [
       "'Avenida Do Camiño Francés, 3, 15703 Santiago de Compostela, A Coruña'"
      ]
     },
     "execution_count": 178,
     "metadata": {},
     "output_type": "execute_result"
    }
   ],
   "source": [
    "adress = df_movie_list[0][::4].apply(lambda x: x.split(\"\\n\"))\n",
    "adress1 = adress[0][-2]+\", \"+adress[0][-1]\n",
    "adress1"
   ]
  }
 ],
 "metadata": {
  "kernelspec": {
   "display_name": "codeando",
   "language": "python",
   "name": "codeando"
  },
  "language_info": {
   "codemirror_mode": {
    "name": "ipython",
    "version": 3
   },
   "file_extension": ".py",
   "mimetype": "text/x-python",
   "name": "python",
   "nbconvert_exporter": "python",
   "pygments_lexer": "ipython3",
   "version": "3.10.10"
  },
  "orig_nbformat": 4,
  "vscode": {
   "interpreter": {
    "hash": "6944c71fef5f060b2f74246e827bdf5139f485428e6f80d6310a4bd5ee2efd57"
   }
  }
 },
 "nbformat": 4,
 "nbformat_minor": 2
}
